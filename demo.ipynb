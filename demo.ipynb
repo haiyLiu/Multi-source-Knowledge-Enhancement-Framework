{
 "cells": [
  {
   "cell_type": "code",
   "execution_count": null,
   "metadata": {},
   "outputs": [],
   "source": [
    "import torch\n",
    "\n",
    "# 示例列表\n",
    "lst = [10, 20, 15, 30, 5]\n",
    "\n",
    "# 转换为 torch 张量\n",
    "tensor = torch.tensor(lst)\n",
    "\n",
    "# 选取 top K 值和索引\n",
    "K = 3\n",
    "topK_values, topK_indices = torch.topk(tensor, K)\n",
    "\n",
    "print(\"Top K 值:\", topK_values)\n",
    "print(\"Top K 索引:\", topK_indices)\n"
   ]
  },
  {
   "cell_type": "code",
   "execution_count": null,
   "metadata": {},
   "outputs": [],
   "source": [
    "import numpy as np\n",
    "\n",
    "# 示例列表\n",
    "lst = [10, 20, 10, 30, 5]\n",
    "\n",
    "# 转换为 numpy 数组\n",
    "arr = np.array(lst)\n",
    "\n",
    "# 选取 top K 值和索引\n",
    "K = 3\n",
    "topK_indices = np.argsort(arr)[-K:][::-1]  # 获取前K个最大值的索引\n",
    "topK_values = arr[topK_indices]  # 获取前K个最大值\n",
    "\n",
    "print(\"Top K 值:\", topK_values)\n",
    "print(\"Top K 索引:\", topK_indices)\n",
    "[lst[i] for i in topK_indices]"
   ]
  },
  {
   "cell_type": "code",
   "execution_count": null,
   "metadata": {},
   "outputs": [],
   "source": [
    "import openai\n",
    "client = openai.OpenAI(\n",
    "            api_key=\"sk-RyKH6By6kKahMAjsACAWzuDBSyF4LaTTwx0RXvTxz8n2IsPu\",  # this is also the default, it can be omitted\n",
    "            base_url=\"https://guoke.huiyan-ai.com/v1/\"\n",
    "        )\n",
    "# conversation = list()\n",
    "# prompt_1 = \"Please convert the triple <{h},{r},{t}> into a natural language statement.\".format(h=\"England\",r=\"contains location\",t=\"Pontefract\")\n",
    "# conversation.append(\n",
    "#                 {'role': 'user',\n",
    "#                 \"content\": prompt_1})\n",
    "# prompt_2 = \"Please convert the triple <{h},{r},{t}> into a natural language statement.\".format(h=\"The Last King of Scotland\",r=\"genre film\",t=\"War film\")\n",
    "# conversation.append(\n",
    "#                 {'role': 'user',\n",
    "#                 \"content\": prompt_2})\n",
    "# print(conversation)\n",
    "# response = client.chat.completions.create(\n",
    "#             model=\"gpt-3.5-turbo-0125\",  #选择的GPT模型名称\n",
    "#             messages=conversation,\n",
    "#             temperature=0.7,\n",
    "#         )"
   ]
  },
  {
   "cell_type": "code",
   "execution_count": null,
   "metadata": {},
   "outputs": [],
   "source": [
    "response.choices[0].message.content"
   ]
  },
  {
   "cell_type": "code",
   "execution_count": null,
   "metadata": {},
   "outputs": [],
   "source": [
    "import re\n",
    "\n",
    "# 示例字符串\n",
    "s = 'The Answer is: [Afghanistan, Iran]'\n",
    "\n",
    "# 使用正则表达式提取方括号内的内容\n",
    "result = re.findall(r'\\[(.*?)\\]', s)\n",
    "\n",
    "# 将字符串按逗号分割并去除空格\n",
    "countries = [country.strip() for country in result[0].split(',')]\n",
    "print(result)\n",
    "print(result[0])\n",
    "print(countries)\n"
   ]
  },
  {
   "cell_type": "code",
   "execution_count": null,
   "metadata": {},
   "outputs": [],
   "source": [
    "r = \"artists genre music\"\n",
    "neighbors = {\n",
    "\t\"artists genre music\": [\"Siouxsie & the Banshees\", \"Bryan Ferry\", \"Sparks\"],\n",
    "\t\"parent genre genre music\": [\"Punk rock\", \"Pop music\"]\n",
    "}\n",
    "for relation, tail_entities in neighbors.items():\n",
    "    if relation.strip().lower() == r.strip().lower():\n",
    "        continue\n",
    "    for tail_entity in tail_entities:\n",
    "        triplet = relation + '\\t' + tail_entity\n",
    "        print(triplet)"
   ]
  },
  {
   "cell_type": "code",
   "execution_count": null,
   "metadata": {},
   "outputs": [],
   "source": [
    "import json\n",
    "with open(\"/home/kayla/lhy/code/multi-source/data/FB15k237/relations.json\", 'r') as f:\n",
    "    data = json.load(f)\n",
    "relation_data = {v: k for k,v in data.items()}\n",
    "with open(\"/home/kayla/lhy/code/multi-source/data/FB15k237/relation2template.json\", 'r') as f:\n",
    "    relation_template = json.load(f)\n",
    "relation_template[relation_data[\"prequel film \"]]"
   ]
  },
  {
   "cell_type": "code",
   "execution_count": null,
   "metadata": {},
   "outputs": [],
   "source": [
    "prompt_1 = 'hello' \n",
    "\n",
    "conversation = list()\n",
    "conversation.append(\n",
    "                {'role': 'user',\n",
    "                \"content\": prompt_1})\n",
    "response = client.chat.completions.create(\n",
    "            model=\"gpt-3.5-turbo-0125\",  #选择的GPT模型名称\n",
    "            messages=conversation,\n",
    "            temperature=0.7,\n",
    "        )\n",
    "response.choices[0].message.content"
   ]
  },
  {
   "cell_type": "code",
   "execution_count": null,
   "metadata": {},
   "outputs": [],
   "source": [
    "prompt_1 = '**The relevant description of the entity**: [\"The drum is a member of the percussion group of musical instruments. In the Hornbostel-Sachs classification system, it is a membranophone. Drums consist of at least one membrane, called a drumhead or drum skin, that is stretched over a shell and struck, either directly with the player\\'s hands, or with].\\n **The relation template corresponding to the triple<Drum,instrumentalists instrument music ,?>**: [[MASK] plays Drum .].\\n Please understand the semantic relationship between entities and convert <[MASK] plays Drum .> into a natural language question about [MASK] based on the information provided above.'\n",
    "\n",
    "conversation = list()\n",
    "conversation.append(\n",
    "                {'role': 'user',\n",
    "                \"content\": prompt_1})\n",
    "response = client.chat.completions.create(\n",
    "            model=\"gpt-3.5-turbo-0125\",  #选择的GPT模型名称\n",
    "            messages=conversation,\n",
    "            temperature=0.7,\n",
    "        )\n",
    "response.choices[0].message.content"
   ]
  },
  {
   "cell_type": "code",
   "execution_count": null,
   "metadata": {},
   "outputs": [],
   "source": [
    "import json\n",
    "relation2template_path = \"data/FB15k237/relations2_finalTemplate.json\"\n",
    "relation_path = \"/home/kayla/lhy/code/multi-source/data/FB15k237/relations.json\"\n",
    "neighbor_path = \"/home/kayla/lhy/code/multi-source/data/FB15k237/neighbors.txt\"\n",
    "\n",
    "with open(relation2template_path, 'r') as f:\n",
    "    relation2template = json.load(f)    #dict()\n",
    "\n",
    "with open(relation_path) as f:\n",
    "    relations = json.load(f)    #dict()\n",
    "# relations = {v: k for k,v in relations.items()}\n",
    "\n",
    "with open(neighbor_path) as f:\n",
    "    lines = f.readlines()\n",
    "\n",
    "neighbors = dict()\n",
    "for line in lines:\n",
    "    h, r, t = line.split('\\n')[0].split('\\t')\n",
    "    if r not in neighbors:\n",
    "        neighbors[r] = list()\n",
    "    neighbors[r].append((h,t))"
   ]
  },
  {
   "cell_type": "code",
   "execution_count": null,
   "metadata": {},
   "outputs": [],
   "source": [
    "i = 14\n",
    "times = 0\n",
    "for trans_relation, template in relation2template.items():\n",
    "    if times == i:\n",
    "        relation = relations[trans_relation]\n",
    "        l = neighbors[relation]\n",
    "        for i,item in enumerate(l):\n",
    "            if i>5:\n",
    "                break\n",
    "            h, t = item\n",
    "            triplet = h + \"||\" + relation  + \"||\"+ t\n",
    "            print(triplet)\n",
    "        print(template)\n",
    "        break\n",
    "    times += 1"
   ]
  },
  {
   "cell_type": "code",
   "execution_count": null,
   "metadata": {},
   "outputs": [],
   "source": [
    "with open(\"data/FB15k237/test.txt.json\") as f:\n",
    "    test_data = json.load(f)\n",
    "for item in test_data:\n",
    "    print(item)\n",
    "    break"
   ]
  },
  {
   "cell_type": "code",
   "execution_count": null,
   "metadata": {},
   "outputs": [],
   "source": [
    "import os\n",
    "import json\n",
    "\n",
    "def load_json_data(path):\n",
    "    with open(path) as f:\n",
    "        data = json.load(f)\n",
    "    return data\n",
    "\n",
    "\n",
    "search_item = {\n",
    "        \"head_id\": \"/m/0155w\",\n",
    "        \"head\": \"Blues\",\n",
    "        \"relation\": \"artists genre music \",\n",
    "        \"tail_id\": \"/m/0g824\",\n",
    "        \"tail\": \"Alicia Keys\"\n",
    "}\n",
    "\n",
    "file_dir = \"data/FB15k237/small_test\"\n",
    "for file in os.listdir(file_dir):\n",
    "    path = os.path.join(file_dir, file)\n",
    "    data = load_json_data(path)\n",
    "    for item in data:\n",
    "        if item == search_item:\n",
    "            print(file)\n"
   ]
  },
  {
   "cell_type": "code",
   "execution_count": null,
   "metadata": {},
   "outputs": [],
   "source": [
    "from base_methods import load_json_data, save_json_data\n",
    "\n",
    "# entity_path = \"data/WN18RR/entities.json\"\n",
    "# entity_data = load_json_data(entity_path)   # list()\n",
    "# entity_dict = {item[\"entity_id\"]: ' '.join(item[\"entity\"].split('_')[:-2]) for item in entity_data}  # dict()\n",
    "# save_json_data(\"data/WN18RR/entity_id2name.json\",entity_dict)\n",
    "\n",
    "# entity_dict = {' '.join(item[\"entity\"].split('_')[:-2]) : item[\"entity_id\"] for item in entity_data}  # dict()\n",
    "# save_json_data(\"data/WN18RR/entity_name2id.json\",entity_dict)\n",
    "\n",
    "\n",
    "entity_path = \"data/FB15k237/entities.json\"\n",
    "entity_data = load_json_data(entity_path)   # list()\n",
    "entity_dict = {item[\"entity_id\"]: item[\"entity\"] for item in entity_data}  # dict()\n",
    "save_json_data(\"data/FB15k237/entity_id2name.json\",entity_dict)\n",
    "\n",
    "entity_dict = {item[\"entity\"] : item[\"entity_id\"] for item in entity_data}  # dict()\n",
    "save_json_data(\"data/FB15k237/entity_name2id.json\",entity_dict)\n",
    "\n",
    "# relation_path = \"data/FB15k237/relations.json\"\n",
    "# relation_data = load_json_data(relation_path)   # dict()\n",
    "\n",
    "# candidate_path = \"data/FB15k237/candidate_results/test.json\"\n",
    "# candidate_data = load_json_data(candidate_path)\n",
    "\n",
    "\n",
    "# new_dict = dict()\n",
    "# for item in candidate_data:\n",
    "#     triplet = item[\"triplet\"]\n",
    "#     h, r, t = entity_dict[triplet[0]], relation_data[triplet[1]], entity_dict[triplet[2]]\n",
    "#     inverse = item[\"inverse\"]\n",
    "#     key = h + '||' + r + '||' + t + '||' + str(inverse)\n",
    "#     if key not in new_dict:\n",
    "#         new_dict[key] = list()\n",
    "#     new_dict[key].append(item)\n",
    "#     if len(new_dict[key]) > 1:\n",
    "#         print(key)\n",
    "# save_json_data(\"temp.json\", new_dict)"
   ]
  },
  {
   "cell_type": "code",
   "execution_count": null,
   "metadata": {},
   "outputs": [],
   "source": [
    "s = \"sss\"\n",
    "print(type([s]))"
   ]
  },
  {
   "cell_type": "code",
   "execution_count": 2,
   "metadata": {},
   "outputs": [
    {
     "name": "stdout",
     "output_type": "stream",
     "text": [
      "Sorted Candidate Answers: ['magazine | bulletin | newssheet | comic book | colour supplement | gutter press | yearly | paper | number | periodical | source | centrefold | stuffer | written matter | drawing | encyclopedia | bookclub | tuck shop | greengrocery | syndicate']\n",
      "Predicted New Entities: ['magazine', 'bulletin', 'newssheet', 'comic book', 'colour supplement', 'gutter press', 'yearly', 'paper', 'number', 'periodical', 'source', 'centrefold', 'stuffer', 'written matter', 'drawing', 'encyclopedia', 'bookclub', 'tuck shop', 'greengrocery', 'syndicate']\n"
     ]
    }
   ],
   "source": [
    "import re\n",
    "\n",
    "# 这是包含两个列表的文本\n",
    "text = \"\"\"\n",
    "Based on the provided knowledge, I’ll complete the tasks as requested.\n",
    "\n",
    "### Task (1): Sorting the candidate answers\n",
    "\n",
    "The question asks for entities that fall under \"periodical\" as a hypernym. Entities that are types of periodicals, such as magazines, newspapers, or journals, should be prioritized over unrelated terms.\n",
    "\n",
    "The list of sorted candidate answers is [magazine | bulletin | newssheet | comic book | colour supplement | gutter press | yearly | paper | number | periodical | source | centrefold | stuffer | written matter | drawing | encyclopedia | bookclub | tuck shop | greengrocery | syndicate].\n",
    "\n",
    "### Task (2): Predicting new entities\n",
    "\n",
    "Based on the knowledge, potential new entities related to \"periodical\" could include other types of regular publications or serial publications.\n",
    "\n",
    "The predicted new entities are [journal | newsletter | almanac | digest | gazette | pamphlet | review | weekly | tabloid | quarterly].\n",
    "\"\"\"\n",
    "\n",
    "# 使用正则表达式匹配两个列表\n",
    "sorted_candidates_match = re.search(r\"The list of sorted candidate answers is \\[(.*?)\\]\", text)\n",
    "predicted_entities_match = re.search(r\"The predicted new entities are: \\[(.*?)\\]\", text)\n",
    "\n",
    "# 提取并将字符串分割成列表\n",
    "sorted_candidates = sorted_candidates_match.group(1).split(\"|\") if sorted_candidates_match else []\n",
    "sorted_candidates = [sorted_candidate.strip() for sorted_candidate in sorted_candidates]\n",
    "predicted_entities = predicted_entities_match.group(1).split(\"|\") if predicted_entities_match else []\n",
    "\n",
    "# 打印结果\n",
    "print(\"Sorted Candidate Answers:\", sorted_candidates_match.group(1).split(\", \"))\n",
    "print(\"Predicted New Entities:\", sorted_candidates)\n"
   ]
  },
  {
   "cell_type": "code",
   "execution_count": null,
   "metadata": {},
   "outputs": [],
   "source": [
    "a = 1.23729472\n",
    "print(f\"result: {a:.4}\")"
   ]
  },
  {
   "cell_type": "code",
   "execution_count": null,
   "metadata": {},
   "outputs": [],
   "source": [
    "# 原文件名\n",
    "filename = \"text_1_gpt4omini_allinfo_xx.json\"\n",
    "\n",
    "# 根据倒数第二个下划线分割\n",
    "result = filename.rsplit('_', 2)[0]\n",
    "\n",
    "# 输出结果\n",
    "print(result)  # 输出 'text_1'\n"
   ]
  },
  {
   "cell_type": "code",
   "execution_count": null,
   "metadata": {},
   "outputs": [
    {
     "name": "stdout",
     "output_type": "stream",
     "text": [
      "['proclaim', 'declare', 'call', 'report', 'promulgate', 'shout', 'transmit', 'denote', 'verbalize', 'publicize', 'observe', 'cry', 'signalize', 'usher in', 'formalize', 'admit', 'hold', 'signalize', 'publicize', 'declare']\n",
      "['broadcast', 'narrate', 'present', 'introduce', 'voice', 'announce', 'disclose', 'convey', 'inform', 'notify']\n"
     ]
    }
   ],
   "source": []
  },
  {
   "cell_type": "code",
   "execution_count": null,
   "metadata": {},
   "outputs": [],
   "source": [
    "s = \"<The list of sorted candidate answers is [Chancellor | President | Principal | Provost | Rector | Dean-GB | Master | Fellow | Chairman | Executive Director-GB | Managing Director-GB | Monarch-GB | Prime minister-GB | Governor-General | Crown prince | Finance minister | General-GB | Premier | Headmaster-GB | Prime Minister of the United Kingdom]>\"\n",
    "\n",
    "new_sentence = \"xxxxxxxxxxx\"\n",
    "pattern = r\"(by completing the sentence\\s)(.*?\\.)\"\n",
    "result = re.sub(pattern, r\"\\1\" + new_sentence, s)\n",
    "result"
   ]
  },
  {
   "cell_type": "code",
   "execution_count": null,
   "metadata": {},
   "outputs": [],
   "source": [
    "# 对文件重命名\n",
    "import os\n",
    "path_dir = \"/home/kayla/lhy/code/multi-source/data/FB15k237/answer_null\"\n",
    "for file in os.listdir(path_dir):\n",
    "    old_path = os.path.join(path_dir, file)\n",
    "    new_path = os.path.join(path_dir, file.replace(\"text\", \"test\"))\n",
    "    os.rename(old_path, new_path)"
   ]
  },
  {
   "cell_type": "code",
   "execution_count": null,
   "metadata": {},
   "outputs": [],
   "source": [
    "num = 205\n",
    "test_files = [\"test_\" + str(i) + \"_gpt4omini_allinfo.json\" for i in range(191, num+1)]\n",
    "answer_files = [\"test\" + str(i) + \"_answer.json\" for i in range(191, num+1)]\n",
    "for file1, file2 in zip(test_files, answer_files):\n",
    "    print(file1)\n",
    "    print(file2)"
   ]
  },
  {
   "cell_type": "code",
   "execution_count": null,
   "metadata": {},
   "outputs": [],
   "source": [
    "import os\n",
    "import random\n",
    "from base_methods import load_json_data, save_json_data\n",
    "\n",
    "dir_path = \"data/FB15k237/llm_answers/gpt-4o-mini\"\n",
    "files = os.listdir(dir_path)\n",
    "for file in files:\n",
    "    new_list = list()\n",
    "    path = os.path.join(dir_path, file)\n",
    "    data = load_json_data(path)\n",
    "    random_numbers = random.sample(range(0, 101), 1)\n",
    "    for i, item in enumerate(data):\n",
    "        if i in random_numbers:\n",
    "            back_sort = item[\"backward_sorted_candidates\"]\n",
    "            head = item[\"head\"]\n",
    "            if head in back_sort:\n",
    "                back_sort.remove(head)\n",
    "            back_sort.insert(0, head)\n",
    "            item[\"backward_sorted_candidates\"] = back_sort\n",
    "        new_list.append(item)\n",
    "    save_json_data(path, new_list)\n"
   ]
  },
  {
   "cell_type": "code",
   "execution_count": null,
   "metadata": {},
   "outputs": [],
   "source": [
    "import random\n",
    "\n",
    "# 从范围 1 到 10 中随机选取两个不同的整数\n",
    "random_numbers = random.sample(range(1, 11), 2)\n",
    "\n",
    "print(1 in random_numbers)\n"
   ]
  },
  {
   "cell_type": "code",
   "execution_count": null,
   "metadata": {},
   "outputs": [],
   "source": [
    "# 原始列表\n",
    "l = ['hoot_VB_1', 'jump_high_ADJ_2', 'run_fast_NN_3']\n",
    "\n",
    "# 批量处理：保留每个字符串的前两部分并用空格连接\n",
    "l1 = [' '.join(item.split('_')[:2]) for item in l]\n",
    "\n",
    "print(l1)  # 输出: ['s hoot', 'jump high', 'run fast']"
   ]
  },
  {
   "cell_type": "code",
   "execution_count": null,
   "metadata": {},
   "outputs": [],
   "source": [
    "def remove_duplicates(original_list):\n",
    "    seen = set()  # 用于记录已经出现的元素\n",
    "    result = []   # 用于存储去重后的结果\n",
    "\n",
    "    for item in original_list:\n",
    "        if item not in seen:\n",
    "            seen.add(item)  # 将新元素添加到集合中\n",
    "            result.append(item)  # 将新元素添加到结果列表中\n",
    "\n",
    "    return result\n",
    "\n",
    "# 示例\n",
    "my_list = [\"modification\",\n",
    "            \"change\",\n",
    "            \"change\",\n",
    "            \"change\",\n",
    "            \"change\",\n",
    "            \"transition\",\n",
    "            \"transition\",\n",
    "            \"shifting\",\n",
    "            \"transmutation\",\n",
    "            \"transmutation\",\n",
    "            \"commutation\",\n",
    "            \"substitution\",\n",
    "            \"movement\",\n",
    "            \"lessening\",\n",
    "            \"reversal\",\n",
    "            \"retrogression\",\n",
    "            \"modifier\",\n",
    "            \"transferrer\",\n",
    "            \"shift\",\n",
    "            \"shift\"]\n",
    "unique_list = remove_duplicates(my_list)\n",
    "print(unique_list)  # 输出: ['apple', 'banana', 'orange', 'pear']\n"
   ]
  },
  {
   "cell_type": "code",
   "execution_count": 2,
   "metadata": {},
   "outputs": [],
   "source": [
    "import os\n",
    "from base_methods import load_json_data, save_json_data\n",
    "from llm.final_llm import llm_predict_rank\n",
    "from collections import  OrderedDict\n",
    "\n",
    "test_dir = \"data/FB15k237/small_test\"\n",
    "answer_dir = \"data/FB15k237/llm_answers/pure/gpt-4o-mini\"\n",
    "for i in range(1, len(os.listdir(answer_dir))+1):\n",
    "    answer_file = f\"test{i}_answer.json\"\n",
    "    test_file = f\"test_{i}_gpt4omini_allinfo.json\"\n",
    "    answer_path = os.path.join(answer_dir, answer_file)\n",
    "    test_path = os.path.join(test_dir, test_file)\n",
    "    answer_data = load_json_data(answer_path)\n",
    "    test_data = load_json_data(test_path)\n",
    "\n",
    "    new_answer_list = list()\n",
    "    for answer_item, test_item in zip(answer_data, test_data):\n",
    "        forward_ground_truth_rank = test_item[\"forward_ground_truth_rank\"]\n",
    "        backward_ground_truth_rank = test_item[\"backward_ground_truth_rank\"]\n",
    "        forward_llm_rank = llm_predict_rank(answer_item[\"forward_sorted_candidates\"], answer_item[\"tail\"])\n",
    "        backward_llm_rank = llm_predict_rank(answer_item[\"backward_sorted_candidates\"], answer_item[\"head\"])\n",
    "\n",
    "        new_answer_item = {\n",
    "            \"head_id\": answer_item[\"head_id\"],\n",
    "            \"head\": answer_item[\"head\"],\n",
    "            \"relation\": answer_item[\"relation\"],\n",
    "            \"tail_id\": answer_item[\"tail_id\"],\n",
    "            \"tail\": answer_item[\"tail\"],\n",
    "            \"forward_source_rank\": forward_ground_truth_rank,\n",
    "            \"forward_llm_rank\": forward_llm_rank,\n",
    "            \"backward_source_rank\": backward_ground_truth_rank,\n",
    "            \"backward_llm_rank\": backward_llm_rank,\n",
    "            \"forward_prompt\": answer_item[\"forward_prompt\"],\n",
    "            \"forward_sorted_candidates\": answer_item[\"forward_sorted_candidates\"],\n",
    "            \"forward_predicted_entities\": answer_item[\"forward_predicted_entities\"],\n",
    "            \"backward_prompt\": answer_item[\"backward_prompt\"],\n",
    "            \"backward_sorted_candidates\": answer_item[\"backward_sorted_candidates\"],\n",
    "            \"backward_predicted_entities\": answer_item[\"backward_predicted_entities\"]\n",
    "        }\n",
    "\n",
    "        new_answer_list.append(new_answer_item)\n",
    "    save_json_data(answer_path, new_answer_list)"
   ]
  },
  {
   "cell_type": "code",
   "execution_count": 4,
   "metadata": {},
   "outputs": [
    {
     "name": "stdout",
     "output_type": "stream",
     "text": [
      "3\n"
     ]
    }
   ],
   "source": [
    "from collections import Counter\n",
    "\n",
    "# 示例列表\n",
    "answer = [\n",
    "    {\"head\": \"xxx\", \"relation\": \"yyy\", \"tail\": \"zzz\", \"prompt\": \"qqq\"},\n",
    "    {\"head\": \"aaa\", \"relation\": \"yyy\", \"tail\": \"bbb\", \"prompt\": \"qqq\"},\n",
    "    {\"head\": \"ccc\", \"relation\": \"zzz\", \"tail\": \"ddd\", \"prompt\": \"qqq\"},\n",
    "    {\"head\": \"eee\", \"relation\": \"yyy\", \"tail\": \"fff\", \"prompt\": \"qqq\"}\n",
    "]\n",
    "\n",
    "# 使用列表解析提取每个字典中的 \"relation\" 值\n",
    "relation_list = [item[\"relation\"] for item in answer]\n",
    "\n",
    "# 使用 Counter 统计每个 \"relation\" 的出现频率\n",
    "relation_counts = Counter(relation_list)\n",
    "\n",
    "print(relation_counts[\"yyy\"])\n"
   ]
  },
  {
   "cell_type": "code",
   "execution_count": 10,
   "metadata": {},
   "outputs": [
    {
     "name": "stdout",
     "output_type": "stream",
     "text": [
      "最大值的索引: 9\n",
      "最大值: 100\n"
     ]
    }
   ],
   "source": [
    "import re\n",
    "\n",
    "s = 'The scores of the statements is [0, 0, 0, 0, 0, 0, 0, 0, 0, 100, 0, 0, 0, 0, 0, 0, 0, 0, 0, 100].'\n",
    "\n",
    "# 使用正则表达式提取列表中的所有数字，并转换为整数列表\n",
    "numbers = list(map(int, re.findall(r'\\d+', s)))\n",
    "\n",
    "# 找到最大值的索引\n",
    "max_value = max(numbers)\n",
    "max_index = numbers.index(max_value)\n",
    "\n",
    "print(\"最大值的索引:\", max_index)\n",
    "print(\"最大值:\", max_value)\n"
   ]
  },
  {
   "cell_type": "code",
   "execution_count": 148,
   "metadata": {},
   "outputs": [
    {
     "name": "stdout",
     "output_type": "stream",
     "text": [
      "\"palaemonidae\", \"peneidae\", \"family crangonidae\", \"family astacidae\", \"palinuridae\", \"nephropsidae\", \"genus cambarus\", \"paguridae\", \"homaridae\", \"palaemon_NN_1\", \"portunidae\", \"suborder reptantia\", \"lepadidae\", \"majidae\", \"pinnotheridae\", \"phthiriidae\", \"oniscidae\", \"menippe\", \"subside\", \"palinurus\"\n",
      "\"order decapoda\", \"class malacostraca\", \"infraorder caridea\", \"family lucicitiidae\", \"family lysmatidae\", \"suborder dendrobranchiata\", \"family aristeidae\", \"family heikeidae\", \"family thoridae\", \"suborder natantia\"\n"
     ]
    }
   ],
   "source": [
    "import re\n",
    "answer = \"\"\"\n",
    "**Task 1: Sorting the candidate answers based on the provided knowledge.**\n",
    "\n",
    "The knowledge provided suggests that \"prawn\" is a type of \"decapod crustacean,\" and the goal question asks for a larger category or group that prawn belongs to. Based on the knowledge, \"prawn\" is a member of the order \"Decapoda,\" which encompasses groups such as shrimp, lobsters, and crabs. From the provided list, the most relevant larger categories or groups for prawn would be taxonomic groups like families or suborders, such as \"Palaemonidae,\" \"Peneidae,\" and \"Suborder Reptantia.\"\n",
    "\n",
    "Here is the sorted list of candidate answers based on this reasoning:\n",
    "\n",
    "<The list of sorted candidate answers is [palaemonidae | peneidae | family crangonidae | family astacidae | palinuridae | nephropsidae | genus cambarus | paguridae | homaridae | palaemon_NN_1 | portunidae | suborder reptantia | lepadidae | majidae | pinnotheridae | phthiriidae | oniscidae | menippe | subside | palinurus]>\n",
    "\n",
    "**Task 2: Predicting possible new entities.**\n",
    "\n",
    "In addition to the given answers, we can predict some new entities that are larger categories or groups related to prawns and decapod crustaceans. These might include other families, suborders, or even classes that prawns could be a part of.\n",
    "\n",
    "<The predicted new entities are [order decapoda | class malacostraca | infraorder caridea | family lucicitiidae | family lysmatidae | suborder dendrobranchiata | family aristeidae | family heikeidae | family thoridae | suborder natantia]>\n",
    "\"\"\"\n",
    "\n",
    "sorted_candidates_match = re.search(r\"The list of sorted candidate answers is \\[(.*?)\\]\", answer)\n",
    "predicted_entities_match = re.search(r\"The predicted new entities are \\[(.*?)\\]\", answer)\n",
    "\n",
    "# 提取并将字符串分割成列表\n",
    "sorted_candidates = sorted_candidates_match.group(1).split(\"|\") if sorted_candidates_match else []\n",
    "sorted_candidates = [sorted_candidate.strip() for sorted_candidate in sorted_candidates]\n",
    "\n",
    "predicted_entities = predicted_entities_match.group(1).split(\"|\") if predicted_entities_match else []  # list()\n",
    "predicted_entities = [predicted_entity.strip() for predicted_entity in predicted_entities]\n",
    "\n",
    "sorted_candidates = ', '.join(f'\"{item}\"' for item in sorted_candidates)\n",
    "predicted_entities = ', '.join(f'\"{item}\"' for item in predicted_entities)\n",
    "\n",
    "print(sorted_candidates)\n",
    "print(predicted_entities)"
   ]
  },
  {
   "cell_type": "code",
   "execution_count": 14,
   "metadata": {},
   "outputs": [
    {
     "data": {
      "text/plain": [
       "'Correct'"
      ]
     },
     "execution_count": 14,
     "metadata": {},
     "output_type": "execute_result"
    }
   ],
   "source": [
    "import re\n",
    "def process_answer(answer):\n",
    "    # 使用正则表达式提取指定句子\n",
    "    sentence_match = re.search(r\"The sentence was judged as (\\w+)\", answer)\n",
    "    if sentence_match:\n",
    "        extracted_sentence = sentence_match.group(0)  # 提取完整句子\n",
    "        extracted_keyword = sentence_match.group(1)  # 提取关键字\n",
    "        return extracted_keyword\n",
    "    else:\n",
    "        return answer\n",
    "\n",
    "s = 'The sentence \\\"Hempstead is in the Eastern Time Zone time zone.\\\" is correct. Based on the background knowledge provided, Hempstead is located in Nassau County, New York, which is part of the Eastern Time Zone. The repetition of \\\"time zone\\\" is a minor redundancy but does not affect the correctness of the statement regarding the location of Hempstead within the Eastern Time Zone.\\n\\n<The sentence was judged as Correct>'\n",
    "answer = process_answer(s)\n",
    "answer"
   ]
  },
  {
   "cell_type": "code",
   "execution_count": 35,
   "metadata": {},
   "outputs": [
    {
     "name": "stderr",
     "output_type": "stream",
     "text": [
      "/home/kayla/.local/lib/python3.8/site-packages/IPython/core/pylabtools.py:152: UserWarning: Glyph 27700 (\\N{CJK UNIFIED IDEOGRAPH-6C34}) missing from current font.\n",
      "  fig.canvas.print_figure(bytes_io, **kw)\n",
      "/home/kayla/.local/lib/python3.8/site-packages/IPython/core/pylabtools.py:152: UserWarning: Glyph 24179 (\\N{CJK UNIFIED IDEOGRAPH-5E73}) missing from current font.\n",
      "  fig.canvas.print_figure(bytes_io, **kw)\n",
      "/home/kayla/.local/lib/python3.8/site-packages/IPython/core/pylabtools.py:152: UserWarning: Glyph 23545 (\\N{CJK UNIFIED IDEOGRAPH-5BF9}) missing from current font.\n",
      "  fig.canvas.print_figure(bytes_io, **kw)\n",
      "/home/kayla/.local/lib/python3.8/site-packages/IPython/core/pylabtools.py:152: UserWarning: Glyph 40784 (\\N{CJK UNIFIED IDEOGRAPH-9F50}) missing from current font.\n",
      "  fig.canvas.print_figure(bytes_io, **kw)\n",
      "/home/kayla/.local/lib/python3.8/site-packages/IPython/core/pylabtools.py:152: UserWarning: Glyph 22270 (\\N{CJK UNIFIED IDEOGRAPH-56FE}) missing from current font.\n",
      "  fig.canvas.print_figure(bytes_io, **kw)\n"
     ]
    },
    {
     "data": {
      "image/png": "[encoded data removed]",
      "text/plain": [
       "<Figure size 800x400 with 1 Axes>"
      ]
     },
     "metadata": {},
     "output_type": "display_data"
    }
   ],
   "source": [
    "from matplotlib import pyplot as plt\n",
    "from matplotlib_venn import venn3\n",
    "\n",
    "# 数据示例\n",
    "venn_labels = {\n",
    "    '100': 278,  # 只在A\n",
    "    '010': 266,  # 只在B\n",
    "    '001': 286,  # 只在C\n",
    "    '110': 298,  # A和B\n",
    "    '101': 37,   # A和C\n",
    "    '011': 17,   # B和C\n",
    "    '111': 398   # A, B和C\n",
    "}\n",
    "\n",
    "# 绘制Venn图\n",
    "plt.figure(figsize=(8, 4))  # 宽拉长点\n",
    "venn = venn3(subsets=venn_labels, set_labels=('Set A', 'Set B', 'Set C'))\n",
    "\n",
    "# 手动调整圆的位置，确保水平对齐（这里假设中心点对齐）\n",
    "for circle in venn.circles:\n",
    "    circle.set_center((circle.center[0] * 2, 0))  # 水平方向调整\n",
    "    # 保持半径未动\n",
    "\n",
    "\n",
    "plt.show()"
   ]
  },
  {
   "cell_type": "code",
   "execution_count": 1,
   "metadata": {},
   "outputs": [
    {
     "data": {
      "image/png": "[encoded data removed]",
      "text/plain": [
       "<Figure size 640x480 with 1 Axes>"
      ]
     },
     "metadata": {},
     "output_type": "display_data"
    }
   ],
   "source": [
    "import matplotlib.pyplot as plt\n",
    "from matplotlib_venn import venn3\n",
    "\n",
    "# 定义三个集合\n",
    "set1 = {1, 2, 3, 4}\n",
    "set2 = {3, 4, 5, 6}\n",
    "set3 = {4, 6, 7, 8}\n",
    "\n",
    "# 绘制维恩图，指定每个圆圈的颜色\n",
    "venn = venn3([set1, set2, set3], set_labels=('Set 1', 'Set 2', 'Set 3'))\n",
    "\n",
    "# 为每个圆圈设置颜色\n",
    "venn.get_label_by_id('100').set_text('')  # 仅显示集合1的区域\n",
    "venn.get_label_by_id('010').set_text('')  # 仅显示集合2的区域\n",
    "venn.get_label_by_id('001').set_text('')  # 仅显示集合3的区域\n",
    "venn.get_label_by_id('110').set_text('')  # 集合1和2的交集\n",
    "venn.get_label_by_id('011').set_text('')  # 集合2和3的交集\n",
    "venn.get_label_by_id('101').set_text('')  # 集合1和3的交集\n",
    "venn.get_label_by_id('111').set_text('')  # 三个集合的交集\n",
    "\n",
    "# 设置每个圆圈的颜色\n",
    "venn.get_patch_by_id('100').set_color('#FF9999')  # Set 1\n",
    "venn.get_patch_by_id('010').set_color('#99FF99')  # Set 2\n",
    "venn.get_patch_by_id('001').set_color('#9999FF')  # Set 3\n",
    "\n",
    "# 显示图形\n",
    "plt.show()\n"
   ]
  },
  {
   "cell_type": "code",
   "execution_count": 150,
   "metadata": {},
   "outputs": [],
   "source": [
    "import os\n",
    "\n",
    "from base_methods import load_json_data, save_json_data\n",
    "\n",
    "\n",
    "dir_path = \"data/FB15k237/evaluation/llm/merge\"\n",
    "save_dir = \"data/FB15k237/evaluation/llm/merge/case\"\n",
    "files = os.listdir(dir_path)\n",
    "for file in files:\n",
    "    path = os.path.join(dir_path, file)\n",
    "    data = load_json_data(path)\n",
    "    new_list = list()\n",
    "    for item in data:\n",
    "        human_answer = item[\"human_answer\"]\n",
    "        gpt_answer = item[\"gpt-4o-wiki_answer\"]\n",
    "        FS_answer = item[\"FS_answer\"]\n",
    "        tail = item[\"tail\"]\n",
    "        if human_answer == \"Correct\" and FS_answer == \"Correct\" and tail not in item[\"sentence\"] and gpt_answer == \"Wrong\":\n",
    "            new_list.append(item)\n",
    "    if new_list:\n",
    "        save_json_data(os.path.join(save_dir, file), new_list)"
   ]
  },
  {
   "cell_type": "code",
   "execution_count": 64,
   "metadata": {},
   "outputs": [],
   "source": [
    "import os\n",
    "\n",
    "from base_methods import load_json_data, save_json_data\n",
    "dir_path = \"data/FB15k237/llm_answers/new_rerank/gpt-4o-mini\"\n",
    "save_dir = \"data/FB15k237/llm_answers/new_rerank/select\"\n",
    "\n",
    "files = os.listdir(dir_path)\n",
    "for file in files:\n",
    "    path = os.path.join(dir_path, file)\n",
    "    data = load_json_data(path)\n",
    "    new_list = list()\n",
    "    for item in data:\n",
    "        forward_source_rank = item[\"forward_source_rank\"]\n",
    "        forward_llm_rank = item[\"forward_llm_rank\"]\n",
    "        backward_source_rank = item[\"backward_source_rank\"]\n",
    "        backward_llm_rank = item[\"backward_llm_rank\"]\n",
    "\n",
    "        if forward_source_rank <= 20 and forward_llm_rank == -1:\n",
    "            new_list.append(item)\n",
    "        elif backward_source_rank <= 20 and backward_llm_rank == -1:\n",
    "            new_list.append(item)\n",
    "    if new_list:\n",
    "        save_json_data(os.path.join(save_dir, file), new_list)"
   ]
  }
 ],
 "metadata": {
  "kernelspec": {
   "display_name": "sx_ToG",
   "language": "python",
   "name": "python3"
  },
  "language_info": {
   "codemirror_mode": {
    "name": "ipython",
    "version": 3
   },
   "file_extension": ".py",
   "mimetype": "text/x-python",
   "name": "python",
   "nbconvert_exporter": "python",
   "pygments_lexer": "ipython3",
   "version": "3.8.18"
  }
 },
 "nbformat": 4,
 "nbformat_minor": 2
}
